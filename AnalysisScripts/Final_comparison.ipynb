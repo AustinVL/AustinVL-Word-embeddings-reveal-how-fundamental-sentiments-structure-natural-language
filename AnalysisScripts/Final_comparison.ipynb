{
 "cells": [
  {
   "cell_type": "code",
   "execution_count": 20,
   "metadata": {},
   "outputs": [],
   "source": [
    "import pandas as pd\n",
    "import csv\n",
    "from collections import defaultdict as dd\n",
    "import re\n",
    "from matplotlib.pyplot import scatter  \n",
    "import matplotlib.pyplot as plt\n",
    "from sklearn.metrics import r2_score as r2\n",
    "from sklearn.metrics import mean_absolute_error as mae\n",
    "import numpy as np\n",
    "from scipy.stats import ttest_1samp"
   ]
  },
  {
   "cell_type": "code",
   "execution_count": 62,
   "metadata": {},
   "outputs": [],
   "source": [
    "new_data_fn = 'collected_epa_ratings.csv' \n",
    "predicted_data_fns = 'predictions.csv'\n",
    "rejected_workers = {'A351P2O6QGTCS',\n",
    "                    'A4J4GGMKJ68L0',\n",
    "                    'A351P2O6QGTCS',\n",
    "                    'A29VL3MZE7YPBZ',\n",
    "                    'A2T1K94BLNDBAH',\n",
    "                    'ARJ6SPCZJVARE',\n",
    "                    'AV5DCU1VH5S34'}\n",
    "dropped_workers = {'A1B5SSGMTAQ9B5',\n",
    "                   'A1LOD3LNX7FUPJ',\n",
    "                   'A1QTQISKEHWSKZ',\n",
    "                   'A24ZKEJTS1O4IW',\n",
    "                   'A266LNUJOVKCDS',\n",
    "                   'A29VL3MZE7YPBZ',\n",
    "                   'A2ET3KM3IE33MM',\n",
    "                   'A2QH1BQA6GR48O',\n",
    "                   'A351P2O6QGTCS',\n",
    "                   'A38DAH5RS19EX4',\n",
    "                   'A3GNQDFPZALU92',\n",
    "                   'A3RYI5HXC2MJLN',\n",
    "                   'A4J4GGMKJ68L0',\n",
    "                   'AJDXSXAWDDAEO'}"
   ]
  },
  {
   "cell_type": "code",
   "execution_count": 130,
   "metadata": {},
   "outputs": [],
   "source": [
    "def get_word(phrase):\n",
    "    beh_regex = ['^to\\s([^\\s]*)\\s?(?:with|to|at|towards|on|upon|something to)?\\ssomeone\\sis$']\n",
    "    id_regex = ['an? (.*?) is']\n",
    "    mod_regex = ['^being\\s([^\\s]*)\\sis$','^feeling\\s([^\\s]*)\\sis$']\n",
    "    beh = 0\n",
    "    mod = 0\n",
    "    id_ = 0\n",
    "        \n",
    "    for r in beh_regex:\n",
    "        match = re.search(r, str(phrase))\n",
    "        if match:\n",
    "            term = match.group(1)\n",
    "            beh = 1\n",
    "               \n",
    "    if not beh:\n",
    "        for r in id_regex:\n",
    "            match = re.search(r, str(phrase))\n",
    "            if match:\n",
    "                term = match.group(1)\n",
    "                id_ = 1\n",
    "       \n",
    "    if not beh and not id_:\n",
    "        for r in mod_regex:\n",
    "            match = re.search(r, str(phrase))\n",
    "            if match:\n",
    "                term = match.group(1)\n",
    "                mod = 1\n",
    "                \n",
    "    if not beh and not id_ and not mod:\n",
    "        print(phrase)\n",
    "        return None\n",
    "                \n",
    "    return term,(beh, id_, mod)"
   ]
  },
  {
   "cell_type": "code",
   "execution_count": 64,
   "metadata": {},
   "outputs": [],
   "source": [
    "e_ratings = dd(list)\n",
    "p_ratings = dd(list)\n",
    "a_ratings = dd(list)\n",
    "all_words_collected = set()\n",
    "\n",
    "with open(new_data_fn) as fn:\n",
    "    reader = csv.DictReader(fn)\n",
    "    for row in reader:\n",
    "        if row['rating_value'] == 'SKIP':\n",
    "            continue\n",
    "        if row['mturk_id'] in rejected_workers.union(dropped_workers):\n",
    "            continue\n",
    "        score = float(row['rating_value'])\n",
    "        term, pos = get_word(row['phrase'])\n",
    "        all_words_collected.add(term)\n",
    "        if row['dimension'] == 'evaluative':\n",
    "            e_ratings[term].append(score)\n",
    "        elif row['dimension'] == 'potency':\n",
    "            p_ratings[term].append(score)\n",
    "        elif row['dimension'] == 'activity':\n",
    "            a_ratings[term].append(score)\n",
    "        else:\n",
    "            print(row['dimension'])\n",
    "            \n",
    "epa_ratings_collected = {w: {'e': sum(e_ratings[w])/len(e_ratings[w]),\n",
    "                             'p': sum(p_ratings[w])/len(p_ratings[w]),\n",
    "                             'a': sum(a_ratings[w])/len(a_ratings[w])} for w in all_words_collected}"
   ]
  },
  {
   "cell_type": "code",
   "execution_count": 65,
   "metadata": {},
   "outputs": [],
   "source": [
    "epa_ratings_predicted = {}\n",
    "all_words_predicted = set()\n",
    "\n",
    "with open(predicted_data_fns) as fn:\n",
    "    reader = csv.DictReader(fn)\n",
    "    for row in reader:\n",
    "        term = row['Term']\n",
    "        all_words_predicted.add(term)\n",
    "        epa_ratings_predicted[term] = {'e': float(row['E']),\n",
    "                                       'p': float(row['P']),\n",
    "                                       'a': float(row['A'])}"
   ]
  },
  {
   "cell_type": "code",
   "execution_count": 158,
   "metadata": {},
   "outputs": [
    {
     "name": "stdout",
     "output_type": "stream",
     "text": [
      "a machine repairer\n",
      "a machine repairer\n",
      "a polymath   1\n",
      "a polymath   1\n",
      "being able bodied is\n",
      "being able bodied is\n",
      "being abusive physically is\n",
      "being abusive physically is\n",
      "being abusive verbally is\n",
      "being abusive verbally is\n",
      "being bad tempered is\n",
      "being bad tempered is\n",
      "being broad minded is\n",
      "being broad minded is\n",
      "being fun loving is\n",
      "being fun loving is\n",
      "being good natured is\n",
      "being good natured is\n",
      "being light hearted is\n",
      "being light hearted is\n",
      "being lower class is\n",
      "being lower class is\n",
      "being mentally ill is\n",
      "being mentally ill is\n",
      "being mentally retarded is\n",
      "being mentally retarded is\n",
      "being middle aged is\n",
      "being middle aged is\n",
      "being middle class is\n",
      "being middle class is\n",
      "being neighborly\n",
      "being neighborly\n",
      "being obsessive compulsive is\n",
      "being obsessive compulsive is\n",
      "being old fashioned is\n",
      "being old fashioned is\n",
      "being open minded is\n",
      "being open minded is\n",
      "being self assured is\n",
      "being self assured is\n",
      "being self centered is\n",
      "being self centered is\n",
      "being self confident is\n",
      "being self confident is\n",
      "being self disciplined is\n",
      "being self disciplined is\n",
      "being self pitying is\n",
      "being self pitying is\n",
      "being self righteous is\n",
      "being self righteous is\n",
      "being self sacrificing is\n",
      "being self sacrificing is\n",
      "being soft spoken is\n",
      "being soft spoken is\n",
      "being strong willed is\n",
      "being strong willed is\n",
      "being team spirited is\n",
      "being team spirited is\n",
      "feeling at ease is\n",
      "feeling at ease is\n",
      "feeling awe struck is\n",
      "feeling awe struck is\n",
      "feeling broken hearted is\n",
      "feeling broken hearted is\n",
      "feeling dissatisfied\n",
      "feeling dissatisfied\n",
      "feeling fed up is\n",
      "feeling fed up is\n",
      "feeling grief stricken is\n",
      "feeling grief stricken is\n",
      "feeling heart broken is\n",
      "feeling heart broken is\n",
      "feeling heavy hearted is\n",
      "feeling heavy hearted is\n",
      "feeling ill at ease is\n",
      "feeling ill at ease is\n",
      "feeling no emotion is\n",
      "feeling no emotion is\n",
      "feeling self conscious is\n",
      "feeling self conscious is\n",
      "feeling self satisfied is\n",
      "feeling self satisfied is\n",
      "feeling shook up is\n",
      "feeling shook up is\n",
      "god is\n",
      "god is\n",
      "to approve of someone is\n",
      "to approve of someone is\n",
      "to ask about someone is\n",
      "to ask about someone is\n",
      "to ask someone about something is\n",
      "to ask someone about something is\n",
      "to ask someone out is\n",
      "to ask someone out is\n",
      "to bawl out someone is\n",
      "to bawl out someone is\n",
      "to be intimate with someone is\n",
      "to be intimate with someone is\n",
      "to be sarcastic toward someone is\n",
      "to be sarcastic toward someone is\n",
      "to beat up someone is\n",
      "to beat up someone is\n",
      "to borrow money from someone is\n",
      "to borrow money from someone is\n",
      "to break up with someone is\n",
      "to break up with someone is\n",
      "to brush off someone is\n",
      "to brush off someone is\n",
      "to butter up someone is\n",
      "to butter up someone is\n",
      "to buy something from someone is\n",
      "to buy something from someone is\n",
      "to care for someone is\n",
      "to care for someone is\n",
      "to cave in to someone is\n",
      "to cave in to someone is\n",
      "to charge someone with something is\n",
      "to charge someone with something is\n",
      "to cheer up someone is\n",
      "to cheer up someone is\n",
      "to chew out someone is\n",
      "to chew out someone is\n",
      "to complain about someone is\n",
      "to complain about someone is\n",
      "to confide in someone is\n",
      "to confide in someone is\n",
      "to conspire against someone is\n",
      "to conspire against someone is\n",
      "to cross examine someone is\n",
      "to cross examine someone is\n",
      "to cry for someone is\n",
      "to cry for someone is\n",
      "to curry favor from someone is\n",
      "to curry favor from someone is\n",
      "to cut off relations with someone is\n",
      "to cut off relations with someone is\n",
      "to cut someone down to size is\n",
      "to cut someone down to size is\n",
      "to cut the pay of someone is\n",
      "to cut the pay of someone is\n",
      "to delay payment to someone is\n",
      "to delay payment to someone is\n",
      "to desire sexually someone is\n",
      "to desire sexually someone is\n",
      "to disapprove of someone is\n",
      "to disapprove of someone is\n",
      "to discriminate against someone is\n",
      "to discriminate against someone is\n",
      "to discuss something with someone is\n",
      "to discuss something with someone is\n",
      "to double cross someone is\n",
      "to double cross someone is\n",
      "to draw near to someone is\n",
      "to draw near to someone is\n",
      "to drive out someone is\n",
      "to drive out someone is\n",
      "to drone on at someone is\n",
      "to drone on at someone is\n",
      "to embezzle from someone is\n",
      "to embezzle from someone is\n",
      "to fall in love with someone is\n",
      "to fall in love with someone is\n",
      "to financially back someone is\n",
      "to financially back someone is\n",
      "to find someone innocent is\n",
      "to find someone innocent is\n",
      "to get even with someone is\n",
      "to get even with someone is\n",
      "to get to know someone is\n",
      "to get to know someone is\n",
      "to give in to someone is\n",
      "to give in to someone is\n",
      "to give medical treatment to someone is\n",
      "to give medical treatment to someone is\n",
      "to have a heart to heart talk with some\n",
      "to have a heart to heart talk with some\n",
      "to have sex with someone is\n",
      "to have sex with someone is\n",
      "to hide from someone is\n",
      "to hide from someone is\n",
      "to hold someone for questioning is\n",
      "to hold someone for questioning is\n",
      "to hold up someone is\n",
      "to hold up someone is\n",
      "to horse around with someone is\n",
      "to horse around with someone is\n",
      "to hunt for someone is\n",
      "to hunt for someone is\n",
      "to identify someone\n",
      "to identify someone\n",
      "to inject someone with medicine is\n",
      "to inject someone with medicine is\n",
      "to knock someone out is\n",
      "to knock someone out is\n",
      "to lend money to someone is\n",
      "to lend money to someone is\n",
      "to lust for someone is\n",
      "to lust for someone is\n",
      "to make fun of someone is\n",
      "to make fun of someone is\n",
      "to make love to someone is\n",
      "to make love to someone is\n",
      "to mistake someone for someone else is\n",
      "to mistake someone for someone else is\n",
      "to mouth off to someone is\n",
      "to mouth off to someone is\n",
      "to notify someone of something is\n",
      "to notify someone of something is\n",
      "to pat someone down is\n",
      "to pat someone down is\n",
      "to pay for someone is\n",
      "to pay for someone is\n",
      "to plot against someone is\n",
      "to plot against someone is\n",
      "to pooh pooh someone is\n",
      "to pooh pooh someone is\n",
      "to pray for someone is\n",
      "to pray for someone is\n",
      "to prevent someone from doing something\n",
      "to prevent someone from doing something\n",
      "to profess one s innocence to someone\n",
      "to profess one s innocence to someone\n",
      "to propose marriage to someone is\n",
      "to propose marriage to someone is\n",
      "to protest one s innocence to someone\n",
      "to protest one s innocence to someone\n",
      "to pull away from someone is\n",
      "to pull away from someone is\n",
      "to raise the pay of someone is\n",
      "to raise the pay of someone is\n",
      "to rebel against someone is\n",
      "to rebel against someone is\n",
      "to request something from someone is\n",
      "to request something from someone is\n",
      "to retaliate against someone is\n",
      "to retaliate against someone is\n",
      "to say farewell to someone is\n",
      "to say farewell to someone is\n",
      "to say goodbye to someone is\n",
      "to say goodbye to someone is\n",
      "to search for someone is\n",
      "to search for someone is\n",
      "to seek advice from someone is\n",
      "to seek advice from someone is\n",
      "to sexually arouse someone is\n",
      "to sexually arouse someone is\n",
      "to sexually proposition someone is\n",
      "to sexually proposition someone is\n",
      "to shake hands with someone is\n",
      "to shake hands with someone is\n",
      "to share something with someone is\n",
      "to share something with someone is\n",
      "to shoplift from someone is\n",
      "to shoplift from someone is\n",
      "to short change someone is\n",
      "to short change someone is\n",
      "to sit next to someone is\n",
      "to sit next to someone is\n",
      "to stare someone down is\n",
      "to stare someone down is\n",
      "to steal from someone is\n",
      "to steal from someone is\n",
      "to suck up to someone is\n",
      "to suck up to someone is\n",
      "to sweet talk someone is\n",
      "to sweet talk someone is\n",
      "to take someone into custody is\n",
      "to take someone into custody is\n",
      "to take someone s side is\n",
      "to take someone s side is\n",
      "to talk down to someone is\n",
      "to talk down to someone is\n",
      "to tell off someone is\n",
      "to tell off someone is\n",
      "to tell someone to shut up is\n",
      "to tell someone to shut up is\n",
      "to transact business with someone is\n",
      "to transact business with someone is\n",
      "to vouch for someone is\n",
      "to vouch for someone is\n",
      "to walk out on someone is\n",
      "to walk out on someone is\n"
     ]
    }
   ],
   "source": [
    "epa_ratings_old = {'term': [],\n",
    "                   'e_new': [],\n",
    "                   'p_new': [],\n",
    "                   'a_new': []}\n",
    "old_words = set()\n",
    "\n",
    "with open('EPA_dict.csv', 'r') as f:\n",
    "    \n",
    "    f.readline() #Pass over the first line of the file\n",
    "    \n",
    "    for line in f:\n",
    "\n",
    "        line = line.lower().split(',')\n",
    "        if get_word(str(line[0])):\n",
    "            epa_ratings_old['term'].append(get_word(str(line[0]))[0])\n",
    "            epa_ratings_old['e_new'].append(float(line[2]))\n",
    "            epa_ratings_old['p_new'].append(float(line[3]))\n",
    "            epa_ratings_old['a_new'].append(float(line[4]))\n",
    "        \n",
    "        if get_word(str(line[0])):\n",
    "            old_words.add(get_word(str(line[0]))[0])\n",
    "\n",
    "epa_ratings_new = {'term':[w for w in epa_ratings_collected.keys() if w in old_words],\n",
    "                   'e_old': [epa_ratings_collected[w]['a'] for w in epa_ratings_collected.keys() if w in old_words],\n",
    "                   'p_old': [epa_ratings_collected[w]['a'] for w in epa_ratings_collected.keys() if w in old_words],\n",
    "                   'a_old': [epa_ratings_collected[w]['a'] for w in epa_ratings_collected.keys() if w in old_words]}        \n",
    "\n",
    "retested_terms_new = pd.DataFrame.from_dict(epa_ratings_new)\n",
    "retested_terms_old = pd.DataFrame.from_dict(epa_ratings_old)\n",
    "df = retested_terms_new.merge(retested_terms_old, how='left', on='term')"
   ]
  },
  {
   "cell_type": "code",
   "execution_count": 182,
   "metadata": {},
   "outputs": [
    {
     "name": "stdout",
     "output_type": "stream",
     "text": [
      "E: Ttest_relResult(statistic=2.0863325501557344, pvalue=0.038575673151129496)\n",
      "P: Ttest_relResult(statistic=-1.3580836535435803, pvalue=0.1763980764546495)\n",
      "A: Ttest_relResult(statistic=-5.444889494356119, pvalue=1.975585008535982e-07)\n"
     ]
    }
   ],
   "source": [
    "from scipy.stats import ttest_rel as tt\n",
    "print('E:',tt(df['e_old'],df['e_new']))\n",
    "print('P:',tt(df['p_old'],df['p_new']))\n",
    "print('A:',tt(df['a_old'],df['a_new']))"
   ]
  },
  {
   "cell_type": "code",
   "execution_count": 187,
   "metadata": {},
   "outputs": [
    {
     "name": "stdout",
     "output_type": "stream",
     "text": [
      "-0.4727819167043796\n",
      "0.17749676509179857\n",
      "0.2460368311300153\n"
     ]
    }
   ],
   "source": [
    "print(np.mean(df['e_new']) - np.mean(df['e_old']))\n",
    "print(np.mean(df['p_new']) - np.mean(df['p_old']))\n",
    "print(np.mean(df['a_new']) - np.mean(df['a_old']))"
   ]
  },
  {
   "cell_type": "code",
   "execution_count": 183,
   "metadata": {},
   "outputs": [
    {
     "data": {
      "image/png": "[encoded data removed]",
      "text/plain": [
       "<matplotlib.figure.Figure at 0x23115f3c588>"
      ]
     },
     "metadata": {
      "needs_background": "light"
     },
     "output_type": "display_data"
    },
    {
     "data": {
      "image/png": "[encoded data removed]",
      "text/plain": [
       "<matplotlib.figure.Figure at 0x2311614cf60>"
      ]
     },
     "metadata": {
      "needs_background": "light"
     },
     "output_type": "display_data"
    },
    {
     "data": {
      "image/png": "[encoded data removed]",
      "text/plain": [
       "<matplotlib.figure.Figure at 0x23115e1a710>"
      ]
     },
     "metadata": {
      "needs_background": "light"
     },
     "output_type": "display_data"
    }
   ],
   "source": [
    "import seaborn as sb\n",
    "\n",
    "sb.distplot(df['e_old'], label='old ratings')\n",
    "sb.distplot(df['e_new'], label='new ratings')\n",
    "plt.legend()\n",
    "plt.title('E Ratings: p-value = {}'.format((tt(df['e_old'],df['e_new'])[1])))\n",
    "plt.show()\n",
    "\n",
    "sb.distplot(df['p_old'], label='old ratings')\n",
    "sb.distplot(df['p_new'], label='new ratings')\n",
    "plt.legend()\n",
    "plt.title('P Ratings: p-value = {}'.format((tt(df['p_old'],df['p_new'])[1])))\n",
    "plt.show()\n",
    "\n",
    "sb.distplot(df['a_old'], label='old ratings')\n",
    "sb.distplot(df['a_new'], label='new ratings')\n",
    "plt.legend()\n",
    "plt.title('A Ratings: p-value = {}'.format((tt(df['a_old'],df['a_new'])[1])))\n",
    "plt.show()"
   ]
  },
  {
   "cell_type": "code",
   "execution_count": 128,
   "metadata": {},
   "outputs": [
    {
     "name": "stderr",
     "output_type": "stream",
     "text": [
      "IOPub data rate exceeded.\n",
      "The notebook server will temporarily stop sending output\n",
      "to the client in order to avoid crashing it.\n",
      "To change this limit, set the config variable\n",
      "`--NotebookApp.iopub_data_rate_limit`.\n",
      "\n",
      "Current values:\n",
      "NotebookApp.iopub_data_rate_limit=1000000.0 (bytes/sec)\n",
      "NotebookApp.rate_limit_window=3.0 (secs)\n",
      "\n"
     ]
    }
   ],
   "source": [
    "count = 0\n",
    "\n",
    "with open('EPA_dict.csv', 'r') as f:\n",
    "    \n",
    "    f.readline() #Pass over the first line of the file\n",
    "    \n",
    "    for line in f:\n",
    "        \n",
    "        if count < 10:\n",
    "\n",
    "            line = line.lower().split(',')\n",
    "        \n",
    "            print(epa_ratings_old['term'])"
   ]
  },
  {
   "cell_type": "code",
   "execution_count": 67,
   "metadata": {},
   "outputs": [],
   "source": [
    "words = all_words_predicted.intersection(all_words_collected)\n",
    "\n",
    "E_pred = []\n",
    "P_pred = []\n",
    "A_pred = []\n",
    "\n",
    "E_act = []\n",
    "P_act = []\n",
    "A_act = []\n",
    "\n",
    "for w in words:\n",
    "    E_pred.append(epa_ratings_collected[w]['e'])\n",
    "    P_pred.append(epa_ratings_collected[w]['p'])\n",
    "    A_pred.append(epa_ratings_collected[w]['a'])\n",
    "    E_act.append(epa_ratings_predicted[w]['e'])\n",
    "    P_act.append(epa_ratings_predicted[w]['p'])\n",
    "    A_act.append(epa_ratings_predicted[w]['a'])"
   ]
  },
  {
   "cell_type": "code",
   "execution_count": 68,
   "metadata": {},
   "outputs": [],
   "source": [
    "e_E = [E_pred[i] - E_act[i] for i in range(len(E_pred))]\n",
    "e_P = [P_pred[i] - P_act[i] for i in range(len(P_pred))]\n",
    "e_A = [A_pred[i] - A_act[i] for i in range(len(A_pred))]\n",
    "\n",
    "ae_E = [abs(x) for x in e_E]\n",
    "ae_P = [abs(x) for x in e_P]\n",
    "ae_A = [abs(x) for x in e_A]"
   ]
  },
  {
   "cell_type": "code",
   "execution_count": 69,
   "metadata": {},
   "outputs": [
    {
     "name": "stdout",
     "output_type": "stream",
     "text": [
      "Ttest_1sampResult(statistic=-0.7159599429364208, pvalue=0.47466863579867924)\n",
      "Ttest_1sampResult(statistic=0.26876678786956104, pvalue=0.7883256214035241)\n",
      "Ttest_1sampResult(statistic=0.7805698388413685, pvalue=0.43577669395837215)\n"
     ]
    }
   ],
   "source": [
    "print(ttest_1samp(e_E, 0))\n",
    "print(ttest_1samp(e_P, 0))\n",
    "print(ttest_1samp(e_A, 0))"
   ]
  },
  {
   "cell_type": "code",
   "execution_count": 104,
   "metadata": {},
   "outputs": [
    {
     "data": {
      "image/png": "[encoded data removed]",
      "text/plain": [
       "<matplotlib.figure.Figure at 0x231154b2c18>"
      ]
     },
     "metadata": {
      "needs_background": "light"
     },
     "output_type": "display_data"
    }
   ],
   "source": [
    "fig = plt.figure(figsize=(18, 5)) \n",
    "\n",
    "plt1 = plt.subplot(1, 3, 1)\n",
    "plt1.scatter(E_act, E_pred)\n",
    "plt1.plot([-4.3, 4.3], [-4.3, 4.3], 'k,--')\n",
    "plt.xlabel('Actual E')\n",
    "plt.ylabel('Predicted E')\n",
    "\n",
    "plt2 = plt.subplot(1, 3, 2)\n",
    "plt2.scatter(P_act, P_pred)\n",
    "plt2.plot([-4.3, 4.3], [-4.3, 4.3], 'k,--')\n",
    "plt.xlabel('Actual P')\n",
    "plt.ylabel('Predicted P')\n",
    "\n",
    "plt3 = plt.subplot(1, 3, 3)\n",
    "plt3.scatter(A_act, A_pred)\n",
    "plt3.plot([-4.3, 4.3], [-4.3, 4.3], 'k,--')\n",
    "plt.xlabel('Actual A')\n",
    "plt.ylabel('Predicted A')\n",
    "\n",
    "plt.show()"
   ]
  },
  {
   "cell_type": "code",
   "execution_count": 110,
   "metadata": {},
   "outputs": [
    {
     "data": {
      "image/png": "[encoded data removed]",
      "text/plain": [
       "<matplotlib.figure.Figure at 0x23115881630>"
      ]
     },
     "metadata": {
      "needs_background": "light"
     },
     "output_type": "display_data"
    }
   ],
   "source": [
    "fig = plt.figure(figsize=(18, 5)) \n",
    "\n",
    "plt1 = plt.subplot(1, 3, 1)\n",
    "plt.hist([E_act[i] - E_pred[i] for i in range(len(E_pred))], bins=60, density=True, range=(-3,3))\n",
    "plt.xlabel('Error in E')\n",
    "plt.ylabel('Density')\n",
    "\n",
    "plt2 = plt.subplot(1, 3, 2)\n",
    "plt.hist([P_act[i] - P_pred[i] for i in range(len(P_pred))], bins=60, density=True, range=(-3,3))\n",
    "plt.xlabel('Error in P')\n",
    "plt.ylabel('Density')\n",
    "\n",
    "plt3 = plt.subplot(1, 3, 3)\n",
    "plt.hist([A_act[i] - A_pred[i] for i in range(len(A_pred))], bins=60, density=True, range=(-3,3))\n",
    "plt.xlabel('Error in A')\n",
    "plt.ylabel('Density')\n",
    "\n",
    "plt.show()"
   ]
  },
  {
   "cell_type": "code",
   "execution_count": 111,
   "metadata": {},
   "outputs": [
    {
     "data": {
      "image/png": "[encoded data removed]",
      "text/plain": [
       "<matplotlib.figure.Figure at 0x23115f00d30>"
      ]
     },
     "metadata": {
      "needs_background": "light"
     },
     "output_type": "display_data"
    }
   ],
   "source": [
    "fig = plt.figure(figsize=(18, 5)) \n",
    "\n",
    "plt1 = plt.subplot(1, 3, 1)\n",
    "plt.hist(ae_E,bins=60,density=True, cumulative=True, range=(0,3))\n",
    "plt.xlabel('Absolute Error in E')\n",
    "plt.ylabel('Cumulative Density')\n",
    "\n",
    "plt2 = plt.subplot(1, 3, 2)\n",
    "plt.hist(ae_P,bins=60,density=True, cumulative=True, range=(0,3))\n",
    "plt.xlabel('Absolute Error in P')\n",
    "plt.ylabel('Cumulative Density')\n",
    "\n",
    "plt3 = plt.subplot(1, 3, 3)\n",
    "plt.hist(ae_A,bins=60,density=True, cumulative=True, range=(0,3))\n",
    "plt.xlabel('Absolute Error in A')\n",
    "plt.ylabel('Cumulative Density')\n",
    "\n",
    "plt.show()"
   ]
  },
  {
   "cell_type": "code",
   "execution_count": 73,
   "metadata": {},
   "outputs": [
    {
     "data": {
      "text/plain": [
       "0.789"
      ]
     },
     "execution_count": 73,
     "metadata": {},
     "output_type": "execute_result"
    }
   ],
   "source": [
    "round(r2(E_pred, E_act), 3)"
   ]
  },
  {
   "cell_type": "code",
   "execution_count": 74,
   "metadata": {},
   "outputs": [
    {
     "data": {
      "text/plain": [
       "0.621"
      ]
     },
     "execution_count": 74,
     "metadata": {},
     "output_type": "execute_result"
    }
   ],
   "source": [
    "round(r2(P_pred, P_act), 3)"
   ]
  },
  {
   "cell_type": "code",
   "execution_count": 75,
   "metadata": {},
   "outputs": [
    {
     "data": {
      "text/plain": [
       "0.552"
      ]
     },
     "execution_count": 75,
     "metadata": {},
     "output_type": "execute_result"
    }
   ],
   "source": [
    "round(r2(A_pred, A_act), 3)"
   ]
  },
  {
   "cell_type": "code",
   "execution_count": 76,
   "metadata": {},
   "outputs": [
    {
     "data": {
      "text/plain": [
       "0.696"
      ]
     },
     "execution_count": 76,
     "metadata": {},
     "output_type": "execute_result"
    }
   ],
   "source": [
    "round(mae(E_pred, E_act), 3)"
   ]
  },
  {
   "cell_type": "code",
   "execution_count": 77,
   "metadata": {},
   "outputs": [
    {
     "data": {
      "text/plain": [
       "0.683"
      ]
     },
     "execution_count": 77,
     "metadata": {},
     "output_type": "execute_result"
    }
   ],
   "source": [
    "round(mae(P_pred, P_act), 3)"
   ]
  },
  {
   "cell_type": "code",
   "execution_count": 78,
   "metadata": {},
   "outputs": [
    {
     "data": {
      "text/plain": [
       "0.727"
      ]
     },
     "execution_count": 78,
     "metadata": {},
     "output_type": "execute_result"
    }
   ],
   "source": [
    "round(mae(A_pred, A_act), 3)"
   ]
  },
  {
   "cell_type": "code",
   "execution_count": 89,
   "metadata": {},
   "outputs": [
    {
     "data": {
      "text/plain": [
       "{'A1B5SSGMTAQ9B5': 90,\n",
       " 'A1LOD3LNX7FUPJ': 90,\n",
       " 'A1QTQISKEHWSKZ': 90,\n",
       " 'A24ZKEJTS1O4IW': 180,\n",
       " 'A266LNUJOVKCDS': 87,\n",
       " 'A29VL3MZE7YPBZ': 90,\n",
       " 'A2ET3KM3IE33MM': 90,\n",
       " 'A2QH1BQA6GR48O': 89,\n",
       " 'A2T1K94BLNDBAH': 180,\n",
       " 'A351P2O6QGTCS': 90,\n",
       " 'A38DAH5RS19EX4': 90,\n",
       " 'A3GNQDFPZALU92': 89,\n",
       " 'A3RYI5HXC2MJLN': 90,\n",
       " 'A4J4GGMKJ68L0': 88,\n",
       " 'AJDXSXAWDDAEO': 90,\n",
       " 'ARJ6SPCZJVARE': 90,\n",
       " 'AV5DCU1VH5S34': 90}"
      ]
     },
     "execution_count": 89,
     "metadata": {},
     "output_type": "execute_result"
    }
   ],
   "source": [
    "new = {k: 0 for k in rejected_workers.union(dropped_workers)}\n",
    "\n",
    "n = 0\n",
    "with open(new_data_fn) as fn:\n",
    "    reader = csv.DictReader(fn)\n",
    "    for row in reader:\n",
    "        if row['rating_value'] == 'SKIP':\n",
    "            continue\n",
    "        if row['mturk_id'] in rejected_workers.union(dropped_workers):\n",
    "            new[row['mturk_id']] += 1\n",
    "        \n",
    "#print(n)\n",
    "#print(rejected_workers.union(dropped_workers) - new)\n",
    "new"
   ]
  },
  {
   "cell_type": "code",
   "execution_count": 98,
   "metadata": {},
   "outputs": [
    {
     "data": {
      "text/plain": [
       "0.6579003651342377"
      ]
     },
     "execution_count": 98,
     "metadata": {},
     "output_type": "execute_result"
    }
   ],
   "source": [
    "np.mean(P_pred)"
   ]
  },
  {
   "cell_type": "code",
   "execution_count": 99,
   "metadata": {},
   "outputs": [
    {
     "data": {
      "text/plain": [
       "1.4461073027229383"
      ]
     },
     "execution_count": 99,
     "metadata": {},
     "output_type": "execute_result"
    }
   ],
   "source": [
    "np.std(P_pred)"
   ]
  },
  {
   "cell_type": "code",
   "execution_count": 100,
   "metadata": {},
   "outputs": [
    {
     "data": {
      "text/plain": [
       "0.6429436342412452"
      ]
     },
     "execution_count": 100,
     "metadata": {},
     "output_type": "execute_result"
    }
   ],
   "source": [
    "np.mean(P_act)"
   ]
  },
  {
   "cell_type": "code",
   "execution_count": 101,
   "metadata": {},
   "outputs": [
    {
     "data": {
      "text/plain": [
       "1.0733482954395606"
      ]
     },
     "execution_count": 101,
     "metadata": {},
     "output_type": "execute_result"
    }
   ],
   "source": [
    "np.std(P_act)"
   ]
  },
  {
   "cell_type": "code",
   "execution_count": null,
   "metadata": {},
   "outputs": [],
   "source": []
  }
 ],
 "metadata": {
  "kernelspec": {
   "display_name": "Python 3",
   "language": "python",
   "name": "python3"
  },
  "language_info": {
   "codemirror_mode": {
    "name": "ipython",
    "version": 3
   },
   "file_extension": ".py",
   "mimetype": "text/x-python",
   "name": "python",
   "nbconvert_exporter": "python",
   "pygments_lexer": "ipython3",
   "version": "3.6.4"
  }
 },
 "nbformat": 4,
 "nbformat_minor": 2
}
